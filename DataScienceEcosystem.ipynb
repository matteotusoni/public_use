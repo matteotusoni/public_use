{
 "cells": [
  {
   "cell_type": "markdown",
   "id": "7086ac83-1881-4795-939b-ffc7567095d1",
   "metadata": {
    "tags": []
   },
   "source": [
    "# Data Science Tools and Ecosystem"
   ]
  },
  {
   "cell_type": "markdown",
   "id": "e4232ddf-64ca-4ded-b09b-f77738421b34",
   "metadata": {},
   "source": [
    "In this notebook, Data Science Tools and Ecosystem are summarized."
   ]
  },
  {
   "cell_type": "markdown",
   "id": "282eb17d-81c7-478b-8274-cc3248bb4759",
   "metadata": {},
   "source": [
    "# Objectives:\n",
    "* Popular languages that Data Scientists\n",
    "* Commonly used libraries used by Data Scientists\n",
    "* Evaluating arithmetic expressions"
   ]
  },
  {
   "cell_type": "markdown",
   "id": "3cc079ea-f51d-4f37-9cf6-33207312f080",
   "metadata": {},
   "source": [
    "Some of the popular languages that Data Scientists use are:"
   ]
  },
  {
   "cell_type": "markdown",
   "id": "6f936e29-4751-4393-8dba-fbdf3cc028d9",
   "metadata": {
    "tags": []
   },
   "source": [
    "Some of the popular languages that Data Scientists use are:\n",
    "1. Python\n",
    "2. R\n",
    "3. SQL\n"
   ]
  },
  {
   "cell_type": "markdown",
   "id": "100c39a2-4862-42a0-80a5-ecd3bd22fd54",
   "metadata": {
    "tags": []
   },
   "source": [
    "Some of the commonly used libraries used by Data Scientists include:\n",
    "1. NumPy\n",
    "2. Pandas\n",
    "3. scikit-learn\n",
    "    "
   ]
  },
  {
   "cell_type": "markdown",
   "id": "3e994057-d349-4208-b4a2-6bfc61b061fc",
   "metadata": {},
   "source": [
    "| Data Science Tools         |\n",
    "| -------------------------- |\n",
    "| Jupyter Notebook           |\n",
    "| RStudio                    |\n",
    "| Visual Studio Code (VSCode)|"
   ]
  },
  {
   "cell_type": "markdown",
   "id": "cb34f69c-5c56-4d0a-a310-a3348317f456",
   "metadata": {},
   "source": [
    "### Below are a few examples of evaluating arithmetic expressions in Python\n"
   ]
  },
  {
   "cell_type": "code",
   "execution_count": 5,
   "id": "d012bbcc-9417-4cb9-bb4b-46e77908d6cc",
   "metadata": {
    "tags": []
   },
   "outputs": [
    {
     "data": {
      "text/plain": [
       "17"
      ]
     },
     "execution_count": 5,
     "metadata": {},
     "output_type": "execute_result"
    }
   ],
   "source": [
    "# This a simple arithmetic expression to mutiply then add integers\n",
    "(3*4)+5"
   ]
  },
  {
   "cell_type": "code",
   "execution_count": 6,
   "id": "bec839ab-b16d-47ac-a8d0-69bf3227ba2c",
   "metadata": {
    "tags": []
   },
   "outputs": [
    {
     "data": {
      "text/plain": [
       "3.3333333333333335"
      ]
     },
     "execution_count": 6,
     "metadata": {},
     "output_type": "execute_result"
    }
   ],
   "source": [
    "#This will convert 200 minutes to hours by diving by 60\n",
    "200/60"
   ]
  },
  {
   "cell_type": "markdown",
   "id": "887d223d-8888-44a0-8f08-0f253f796500",
   "metadata": {
    "tags": []
   },
   "source": [
    "## Author\n",
    "Matteo"
   ]
  },
  {
   "cell_type": "code",
   "execution_count": null,
   "id": "13219308-b334-4a81-b6a7-4b28688ecd43",
   "metadata": {},
   "outputs": [],
   "source": []
  }
 ],
 "metadata": {
  "kernelspec": {
   "display_name": "Python",
   "language": "python",
   "name": "conda-env-python-py"
  },
  "language_info": {
   "codemirror_mode": {
    "name": "ipython",
    "version": 3
   },
   "file_extension": ".py",
   "mimetype": "text/x-python",
   "name": "python",
   "nbconvert_exporter": "python",
   "pygments_lexer": "ipython3",
   "version": "3.7.12"
  }
 },
 "nbformat": 4,
 "nbformat_minor": 5
}
